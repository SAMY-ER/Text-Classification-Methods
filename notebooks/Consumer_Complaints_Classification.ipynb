{
 "cells": [
  {
   "cell_type": "markdown",
   "metadata": {
    "colab_type": "text",
    "id": "VQI0kon7p-ds"
   },
   "source": [
    "# <center> REVIEW OF DOCUMENT CLASSIFICATION TECHNIQUES </center>"
   ]
  },
  {
   "cell_type": "code",
   "execution_count": 8,
   "metadata": {
    "ExecuteTime": {
     "end_time": "2019-10-13T19:23:34.157915Z",
     "start_time": "2019-10-13T19:23:32.369216Z"
    },
    "colab": {},
    "colab_type": "code",
    "id": "Dm601GaHp-du"
   },
   "outputs": [],
   "source": [
    "# IMPORTS\n",
    "import numpy as np\n",
    "import pandas as pd\n",
    "from pandas.plotting import register_matplotlib_converters\n",
    "register_matplotlib_converters() # register converter for timestamps\n",
    "import matplotlib.pyplot as plt\n",
    "plt.style.use('ggplot')\n",
    "\n",
    "import os\n",
    "import re\n",
    "import string\n",
    "import nltk\n",
    "import gensim\n",
    "\n",
    "from sklearn.preprocessing import LabelEncoder, PolynomialFeatures, MaxAbsScaler, StandardScaler\n",
    "from sklearn.feature_extraction.text import TfidfVectorizer\n",
    "from sklearn.feature_selection import SelectKBest, chi2\n",
    "from sklearn.model_selection import train_test_split\n",
    "from sklearn.linear_model import LogisticRegression\n",
    "from sklearn.cluster import KMeans\n",
    "from sklearn.metrics import accuracy_score\n",
    "\n",
    "from tensorflow.keras.utils import to_categorical\n",
    "from tensorflow.keras.preprocessing.text import Tokenizer\n",
    "from tensorflow.keras.preprocessing.sequence import pad_sequences\n",
    "from tensorflow.keras.models import Sequential\n",
    "from tensorflow.keras.layers import Embedding, Flatten, Dense, Dropout, LSTM, GRU, Bidirectional, Conv1D, MaxPooling1D\n",
    "from tensorflow.keras.optimizers import Adam\n",
    "from tensorflow.keras.callbacks import ModelCheckpoint, TensorBoard"
   ]
  },
  {
   "cell_type": "markdown",
   "metadata": {
    "colab_type": "text",
    "id": "kHn1E_6zp-d0"
   },
   "source": [
    "## I. DATA PREPARATION"
   ]
  },
  {
   "cell_type": "code",
   "execution_count": 9,
   "metadata": {
    "ExecuteTime": {
     "end_time": "2019-10-13T19:24:11.396833Z",
     "start_time": "2019-10-13T19:24:02.282941Z"
    },
    "colab": {},
    "colab_type": "code",
    "id": "DzFyevRNp-d1",
    "outputId": "4266e56b-2708-47ca-8c81-2120f15f2d10"
   },
   "outputs": [
    {
     "name": "stderr",
     "output_type": "stream",
     "text": [
      "/Users/Samyer/anaconda3/lib/python3.7/site-packages/IPython/core/interactiveshell.py:3057: DtypeWarning: Columns (4,5,6,11,16) have mixed types. Specify dtype option on import or set low_memory=False.\n",
      "  interactivity=interactivity, compiler=compiler, result=result)\n"
     ]
    },
    {
     "name": "stdout",
     "output_type": "stream",
     "text": [
      "Shape of the data : (1377383, 18)\n"
     ]
    },
    {
     "data": {
      "text/html": [
       "<div>\n",
       "<style scoped>\n",
       "    .dataframe tbody tr th:only-of-type {\n",
       "        vertical-align: middle;\n",
       "    }\n",
       "\n",
       "    .dataframe tbody tr th {\n",
       "        vertical-align: top;\n",
       "    }\n",
       "\n",
       "    .dataframe thead th {\n",
       "        text-align: right;\n",
       "    }\n",
       "</style>\n",
       "<table border=\"1\" class=\"dataframe\">\n",
       "  <thead>\n",
       "    <tr style=\"text-align: right;\">\n",
       "      <th></th>\n",
       "      <th>Date received</th>\n",
       "      <th>Product</th>\n",
       "      <th>Sub-product</th>\n",
       "      <th>Issue</th>\n",
       "      <th>Sub-issue</th>\n",
       "      <th>Consumer complaint narrative</th>\n",
       "      <th>Company public response</th>\n",
       "      <th>Company</th>\n",
       "      <th>State</th>\n",
       "      <th>ZIP code</th>\n",
       "      <th>Tags</th>\n",
       "      <th>Consumer consent provided?</th>\n",
       "      <th>Submitted via</th>\n",
       "      <th>Date sent to company</th>\n",
       "      <th>Company response to consumer</th>\n",
       "      <th>Timely response?</th>\n",
       "      <th>Consumer disputed?</th>\n",
       "      <th>Complaint ID</th>\n",
       "    </tr>\n",
       "  </thead>\n",
       "  <tbody>\n",
       "    <tr>\n",
       "      <th>0</th>\n",
       "      <td>09/06/2019</td>\n",
       "      <td>Credit reporting, credit repair services, or o...</td>\n",
       "      <td>Credit reporting</td>\n",
       "      <td>Improper use of your report</td>\n",
       "      <td>Credit inquiries on your report that you don't...</td>\n",
       "      <td>NaN</td>\n",
       "      <td>NaN</td>\n",
       "      <td>GENERAL MOTORS FINANCIAL COMPANY, INC.</td>\n",
       "      <td>VA</td>\n",
       "      <td>23185</td>\n",
       "      <td>Servicemember</td>\n",
       "      <td>NaN</td>\n",
       "      <td>Web</td>\n",
       "      <td>09/06/2019</td>\n",
       "      <td>Closed with explanation</td>\n",
       "      <td>Yes</td>\n",
       "      <td>NaN</td>\n",
       "      <td>3366091</td>\n",
       "    </tr>\n",
       "    <tr>\n",
       "      <th>1</th>\n",
       "      <td>09/06/2019</td>\n",
       "      <td>Mortgage</td>\n",
       "      <td>FHA mortgage</td>\n",
       "      <td>Trouble during payment process</td>\n",
       "      <td>NaN</td>\n",
       "      <td>NaN</td>\n",
       "      <td>NaN</td>\n",
       "      <td>Statebridge Company</td>\n",
       "      <td>TN</td>\n",
       "      <td>37087</td>\n",
       "      <td>Older American</td>\n",
       "      <td>NaN</td>\n",
       "      <td>Web</td>\n",
       "      <td>09/06/2019</td>\n",
       "      <td>In progress</td>\n",
       "      <td>Yes</td>\n",
       "      <td>NaN</td>\n",
       "      <td>3365134</td>\n",
       "    </tr>\n",
       "  </tbody>\n",
       "</table>\n",
       "</div>"
      ],
      "text/plain": [
       "  Date received                                            Product  \\\n",
       "0    09/06/2019  Credit reporting, credit repair services, or o...   \n",
       "1    09/06/2019                                           Mortgage   \n",
       "\n",
       "        Sub-product                           Issue  \\\n",
       "0  Credit reporting     Improper use of your report   \n",
       "1      FHA mortgage  Trouble during payment process   \n",
       "\n",
       "                                           Sub-issue  \\\n",
       "0  Credit inquiries on your report that you don't...   \n",
       "1                                                NaN   \n",
       "\n",
       "  Consumer complaint narrative Company public response  \\\n",
       "0                          NaN                     NaN   \n",
       "1                          NaN                     NaN   \n",
       "\n",
       "                                  Company State ZIP code            Tags  \\\n",
       "0  GENERAL MOTORS FINANCIAL COMPANY, INC.    VA    23185   Servicemember   \n",
       "1                     Statebridge Company    TN    37087  Older American   \n",
       "\n",
       "  Consumer consent provided? Submitted via Date sent to company  \\\n",
       "0                        NaN           Web           09/06/2019   \n",
       "1                        NaN           Web           09/06/2019   \n",
       "\n",
       "  Company response to consumer Timely response? Consumer disputed?  \\\n",
       "0      Closed with explanation              Yes                NaN   \n",
       "1                  In progress              Yes                NaN   \n",
       "\n",
       "   Complaint ID  \n",
       "0       3366091  \n",
       "1       3365134  "
      ]
     },
     "execution_count": 9,
     "metadata": {},
     "output_type": "execute_result"
    }
   ],
   "source": [
    "# LOAD DATASET\n",
    "filepath = '../data/Consumer_Complaints.csv' \n",
    "df = pd.read_csv(filepath)\n",
    "print('Shape of the data :', df.shape)\n",
    "df.head(2)"
   ]
  },
  {
   "cell_type": "markdown",
   "metadata": {},
   "source": [
    "**Comment :**\n",
    "\n",
    "The dataset has over 1M rows, however, not all of them include a `Consumer complaint narrative` which is the text we  care about classifying. Thus we need to remove the unnecessary rows."
   ]
  },
  {
   "cell_type": "code",
   "execution_count": 10,
   "metadata": {
    "ExecuteTime": {
     "end_time": "2019-10-13T19:24:29.680824Z",
     "start_time": "2019-10-13T19:24:28.195309Z"
    },
    "colab": {},
    "colab_type": "code",
    "id": "AT9TDHgTp-d6",
    "outputId": "ebc8373b-0662-4d52-c7c2-dcdbf4fe649f"
   },
   "outputs": [
    {
     "name": "stdout",
     "output_type": "stream",
     "text": [
      "Shape of clean dataset is : (436304, 2)\n"
     ]
    }
   ],
   "source": [
    "# CLEAN DATA\n",
    "df = df.dropna(subset=['Consumer complaint narrative'])\n",
    "df['Date received'] = pd.to_datetime(df['Date received'], infer_datetime_format=True)\n",
    "df = df[['Date received', 'Consumer complaint narrative', 'Product']]\n",
    "df.set_index('Date received', inplace=True)\n",
    "df.sort_index(inplace=True)\n",
    "print('Shape of clean dataset is :', df.shape)"
   ]
  },
  {
   "cell_type": "markdown",
   "metadata": {},
   "source": [
    "**Comment :**\n",
    "\n",
    "From reading about the dataset on the source website, I realized that at some point, the number of categories (complaint product) changed : some classes were merged together, while others dissociated into multiple ones. This is problematic and needs to be taken care of. Let us inspect that in more details."
   ]
  },
  {
   "cell_type": "code",
   "execution_count": 15,
   "metadata": {
    "ExecuteTime": {
     "end_time": "2019-10-13T19:28:20.445393Z",
     "start_time": "2019-10-13T19:28:19.410493Z"
    },
    "colab": {},
    "colab_type": "code",
    "id": "jB56BRQ3p-d8",
    "outputId": "e412a32a-944b-49c8-cbc1-d76f89ba2834"
   },
   "outputs": [
    {
     "data": {
      "image/png": "[encoded data removed]",
      "text/plain": [
       "<Figure size 1152x360 with 1 Axes>"
      ]
     },
     "metadata": {
      "image/png": {
       "height": 384,
       "width": 944
      }
     },
     "output_type": "display_data"
    }
   ],
   "source": [
    "# EVOLUTION OF NUMBER OF CLASSES\n",
    "nb_products  = df.resample('M')['Product'].agg(lambda x: len(np.unique(x)))\n",
    "plt.figure(figsize=(16,5))\n",
    "plt.bar(nb_products.index, nb_products, width=25, color='cornflowerblue')\n",
    "plt.xticks(ticks=nb_products.index, labels=nb_products.index.strftime('%Y-%m-%d'), rotation=90)\n",
    "plt.yticks(ticks=range(0,19))\n",
    "plt.xlabel('Months')\n",
    "plt.ylabel('Unique Products Count')\n",
    "plt.title('Number of unique Products by Month');"
   ]
  },
  {
   "cell_type": "markdown",
   "metadata": {},
   "source": [
    "**Comment :**\n",
    "\n",
    "As we can see on the figure above, the number of classes changed during the month of April 2017, moving from the initial 12 classes to 18 different classes, before decreasing back to 9 afterwards. So the number of new classes is 9, and the 18 on April 2017 are basically the union of the 12 and 9 categories before and after the change.\n",
    "\n",
    "One way to deal with this issue, would be to read what the changes actually are, and standardize the classes throughout the whole period. For example, if the classes $C_{1}$ and $C_{2}$ were merged into a class $C$, we could transform both $C_{1}$ and $C_{2}$ into $C$ before the change. However, I opted for a simpler approach by filtering out all the data before the change. This is acceptable because I would still have enough data left to train my models (roughly 250k rows) while keeping the computations manageable (especially for neural networks)."
   ]
  },
  {
   "cell_type": "code",
   "execution_count": 0,
   "metadata": {
    "ExecuteTime": {
     "end_time": "2019-09-08T18:02:39.864538Z",
     "start_time": "2019-09-08T18:02:39.852358Z"
    },
    "colab": {},
    "colab_type": "code",
    "id": "UqXm63Hvp-d_",
    "outputId": "72348078-8373-406e-e8e8-b81608f101c9"
   },
   "outputs": [
    {
     "name": "stdout",
     "output_type": "stream",
     "text": [
      "Shape of final sample : (269569, 2)\n"
     ]
    }
   ],
   "source": [
    "# SAMPLE DATA\n",
    "df = df['2017-05-01':]\n",
    "print('Shape of final sample :', df.shape)"
   ]
  },
  {
   "cell_type": "code",
   "execution_count": 0,
   "metadata": {
    "ExecuteTime": {
     "end_time": "2019-09-08T12:57:27.350748Z",
     "start_time": "2019-09-08T12:57:19.925994Z"
    },
    "colab": {},
    "colab_type": "code",
    "id": "C5qX9jF7p-eB"
   },
   "outputs": [],
   "source": [
    "# EXPORT SAMPLE TO DISK\n",
    "#df.to_csv('Data/Consumer_Complaints_Sample.csv')"
   ]
  },
  {
   "cell_type": "markdown",
   "metadata": {
    "colab_type": "text",
    "id": "pOeugfPYp-eC"
   },
   "source": [
    "Now that we are done preparing our text data, we can move to exploring the different approaches to text classification. The idea here is not to compare different classification algorithms on the same task, but to explore different problem representations and text classification methodologies."
   ]
  },
  {
   "cell_type": "markdown",
   "metadata": {
    "colab_type": "text",
    "id": "yIfldXPPp-eC"
   },
   "source": [
    "## II. APPROACH 1 : BAG OF WORDS"
   ]
  },
  {
   "cell_type": "code",
   "execution_count": 0,
   "metadata": {
    "ExecuteTime": {
     "end_time": "2019-09-07T18:45:31.926639Z",
     "start_time": "2019-09-07T18:39:38.026453Z"
    },
    "colab": {},
    "colab_type": "code",
    "id": "RnZ_U1zlp-eD"
   },
   "outputs": [],
   "source": [
    "# PRE-PROCESS TEXT\n",
    "text = df['Consumer complaint narrative']\n",
    "    # REMOVE PUNCTUATION\n",
    "text = text.apply(lambda x: x.translate(str.maketrans('', '', string.punctuation)))\n",
    "    # LOWERCASE\n",
    "text = text.apply(lambda x: x.lower())\n",
    "    # REMOVE XXXXXs\n",
    "text = text.apply(lambda x: re.sub('[Xx]+', '', x))\n",
    "    # REMOVE STOPWORDS & NUMBERS AND PERFORM STEMMING\n",
    "stopwords = nltk.corpus.stopwords.words('english')\n",
    "snow = nltk.stem.SnowballStemmer('english')\n",
    "text = text.apply(lambda x: ' '.join([snow.stem(word) for word in x.split() if word not in (stopwords) and word.isalpha()]))"
   ]
  },
  {
   "cell_type": "code",
   "execution_count": 0,
   "metadata": {
    "ExecuteTime": {
     "end_time": "2019-09-08T18:07:50.980380Z",
     "start_time": "2019-09-08T18:07:50.919363Z"
    },
    "colab": {},
    "colab_type": "code",
    "id": "yv71RcXjp-eE"
   },
   "outputs": [],
   "source": [
    "# LABEL ENCODING\n",
    "le = LabelEncoder()\n",
    "labels = le.fit_transform(df['Product'])"
   ]
  },
  {
   "cell_type": "code",
   "execution_count": 0,
   "metadata": {
    "ExecuteTime": {
     "end_time": "2019-09-08T14:24:11.602263Z",
     "start_time": "2019-09-08T14:24:11.457242Z"
    },
    "colab": {},
    "colab_type": "code",
    "id": "YFgcSMpip-eG"
   },
   "outputs": [],
   "source": [
    "# SPLIT DATA INTO TRAIN-TEST\n",
    "text_train, text_test, y_train, y_test = train_test_split(text, labels, test_size=0.2, random_state=10, \n",
    "                                                          shuffle=True, stratify=labels)"
   ]
  },
  {
   "cell_type": "code",
   "execution_count": 0,
   "metadata": {
    "ExecuteTime": {
     "end_time": "2019-09-07T19:24:09.083948Z",
     "start_time": "2019-09-07T19:21:34.406035Z"
    },
    "colab": {},
    "colab_type": "code",
    "id": "qmLVXg4dp-eH"
   },
   "outputs": [],
   "source": [
    "# BUILD TERM-DOCUMENT MATRIX\n",
    "VOCAB_SIZE = 10000\n",
    "vectorizer = TfidfVectorizer(sublinear_tf=True, max_df=0.5, ngram_range=(1,3), max_features=VOCAB_SIZE)\n",
    "X_train = vectorizer.fit_transform(text_train)\n",
    "X_test = vectorizer.transform(text_test)"
   ]
  },
  {
   "cell_type": "code",
   "execution_count": 0,
   "metadata": {
    "ExecuteTime": {
     "end_time": "2019-09-07T20:10:48.829147Z",
     "start_time": "2019-09-07T20:10:48.117640Z"
    },
    "colab": {},
    "colab_type": "code",
    "id": "y6BslY9Sp-eJ"
   },
   "outputs": [],
   "source": [
    "# FEATURE SELECTION\n",
    "N_FEATURES = 3000\n",
    "ch2 = SelectKBest(chi2, k=N_FEATURES)\n",
    "X_train_fs = ch2.fit_transform(X_train, y_train)\n",
    "X_test_fs = ch2.transform(X_test)"
   ]
  },
  {
   "cell_type": "code",
   "execution_count": 0,
   "metadata": {
    "ExecuteTime": {
     "end_time": "2019-09-07T20:10:50.244342Z",
     "start_time": "2019-09-07T20:10:49.552464Z"
    },
    "colab": {},
    "colab_type": "code",
    "id": "qd0k7Idtp-eK"
   },
   "outputs": [],
   "source": [
    "# FEATURE SCALING\n",
    "scaler = MaxAbsScaler()\n",
    "X_train_fs = scaler.fit_transform(X_train_fs)\n",
    "X_test_fs = scaler.transform(X_test_fs)"
   ]
  },
  {
   "cell_type": "code",
   "execution_count": 0,
   "metadata": {
    "ExecuteTime": {
     "end_time": "2019-09-07T20:12:48.706974Z",
     "start_time": "2019-09-07T20:11:57.719754Z"
    },
    "colab": {},
    "colab_type": "code",
    "id": "o7qLrrZjp-eL",
    "outputId": "9e594fa3-dfe8-4a3c-fa11-12d131d959a1"
   },
   "outputs": [
    {
     "data": {
      "text/plain": [
       "LogisticRegression(C=1.0, class_weight=None, dual=False, fit_intercept=True,\n",
       "          intercept_scaling=1, max_iter=150, multi_class='warn',\n",
       "          n_jobs=None, penalty='l1', random_state=None, solver='liblinear',\n",
       "          tol=0.0001, verbose=0, warm_start=False)"
      ]
     },
     "execution_count": 219,
     "metadata": {
      "tags": []
     },
     "output_type": "execute_result"
    }
   ],
   "source": [
    "# BUILD ML MODEL\n",
    "lr = LogisticRegression(penalty='l1', solver='liblinear', max_iter=150)\n",
    "lr.fit(X_train_fs, y_train)"
   ]
  },
  {
   "cell_type": "code",
   "execution_count": 0,
   "metadata": {
    "ExecuteTime": {
     "end_time": "2019-09-07T20:12:53.595650Z",
     "start_time": "2019-09-07T20:12:53.556745Z"
    },
    "colab": {},
    "colab_type": "code",
    "id": "q0WpNpVkp-eM",
    "outputId": "ff401552-a02c-4027-94d7-e123e5c41e37"
   },
   "outputs": [
    {
     "name": "stdout",
     "output_type": "stream",
     "text": [
      "Accuracy of Logistic Regression model : 84.33%\n"
     ]
    }
   ],
   "source": [
    "# TEST ML MODEL\n",
    "y_pred = lr.predict(X_test_fs)\n",
    "print('Accuracy of Logistic Regression model : {}%'.format(round(accuracy_score(y_test, y_pred)*100, 2)))"
   ]
  },
  {
   "cell_type": "markdown",
   "metadata": {
    "colab_type": "text",
    "id": "wlmVpaqcp-eN"
   },
   "source": [
    "## III. APPROACH 2 : WORD EMBEDDINGS"
   ]
  },
  {
   "cell_type": "code",
   "execution_count": 0,
   "metadata": {
    "ExecuteTime": {
     "end_time": "2019-09-08T18:06:22.813215Z",
     "start_time": "2019-09-08T18:03:27.580097Z"
    },
    "colab": {},
    "colab_type": "code",
    "id": "A8JVnRVcp-eN"
   },
   "outputs": [],
   "source": [
    "# TEXT PROCESSING FOR WORD2VEC\n",
    "text_wv = df['Consumer complaint narrative']\n",
    "    # LOWERCASE\n",
    "text_wv = text_wv.apply(lambda x: x.lower())\n",
    "    # REMOVE XXXXXs\n",
    "text_wv = text_wv.apply(lambda x: re.sub('[Xx]+', '', x))\n",
    "    # REMOVE STOPWORDS & NUMBERS AND PERFORM LEMMATIZATION\n",
    "stopwords = nltk.corpus.stopwords.words('english')\n",
    "lem = nltk.stem.WordNetLemmatizer()\n",
    "text_wv = text_wv.apply(lambda x: ' '.join([lem.lemmatize(word) for word in x.split() if word not in (stopwords) and not word.isdigit()]))"
   ]
  },
  {
   "cell_type": "code",
   "execution_count": 0,
   "metadata": {
    "ExecuteTime": {
     "end_time": "2019-09-08T18:07:57.421159Z",
     "start_time": "2019-09-08T18:07:57.275653Z"
    },
    "colab": {},
    "colab_type": "code",
    "id": "RalX1cPYp-eO"
   },
   "outputs": [],
   "source": [
    "# SPLIT DATA INTO TRAIN-TEST\n",
    "text_train, text_test, y_train, y_test = train_test_split(text_wv, labels, test_size=0.2, random_state=10, \n",
    "                                                          shuffle=True, stratify=labels)"
   ]
  },
  {
   "cell_type": "code",
   "execution_count": 0,
   "metadata": {
    "ExecuteTime": {
     "end_time": "2019-09-07T21:46:23.097093Z",
     "start_time": "2019-09-07T21:41:52.661077Z"
    },
    "colab": {},
    "colab_type": "code",
    "id": "42O-7T-Qp-eQ"
   },
   "outputs": [],
   "source": [
    "# GROUP DOCUMENTS INTO ONE CORPUS AND TOKENIZE SENTENCES\n",
    "corpus_wv = '. '.join(text_train)\n",
    "corpus_wv = re.sub('[.]+', '.', corpus_wv)\n",
    "sents = nltk.sent_tokenize(corpus_wv)\n",
    "sents = [sentence.translate(str.maketrans('', '', string.punctuation)) for sentence in sents]\n",
    "sents_words = [nltk.word_tokenize(sentence) for sentence in sents]"
   ]
  },
  {
   "cell_type": "code",
   "execution_count": 0,
   "metadata": {
    "ExecuteTime": {
     "end_time": "2019-09-07T21:53:08.007930Z",
     "start_time": "2019-09-07T21:46:23.099104Z"
    },
    "colab": {},
    "colab_type": "code",
    "id": "05z1cds1p-eR"
   },
   "outputs": [],
   "source": [
    "# TRAIN WORD2VEC SKIP-GRAM (FastText VERSION)\n",
    "EMBED_DIM = 100\n",
    "w2v = gensim.models.FastText(sentences=sents_words, min_count=10, size=EMBED_DIM, window=5, sg=1, negative=10, workers=8)"
   ]
  },
  {
   "cell_type": "code",
   "execution_count": 0,
   "metadata": {
    "ExecuteTime": {
     "end_time": "2019-09-07T21:53:09.790461Z",
     "start_time": "2019-09-07T21:53:08.010457Z"
    },
    "colab": {},
    "colab_type": "code",
    "id": "IiTqCuSpp-eS",
    "outputId": "89aa34a6-3d05-4407-9b8d-6fb814734461"
   },
   "outputs": [
    {
     "name": "stdout",
     "output_type": "stream",
     "text": [
      "Word2Vec vocabulary size is : 18720\n"
     ]
    },
    {
     "data": {
      "text/plain": [
       "[('acccount', 0.8625718951225281),\n",
       " ('accountthe', 0.8291419148445129),\n",
       " ('accoun', 0.8250317573547363),\n",
       " ('accountshe', 0.8095595836639404),\n",
       " ('1account', 0.801620602607727),\n",
       " ('accoutn', 0.798793375492096),\n",
       " ('accountno', 0.79674232006073),\n",
       " ('ccount', 0.7850020527839661),\n",
       " ('accout', 0.7811952829360962),\n",
       " ('accountthey', 0.776400089263916)]"
      ]
     },
     "execution_count": 320,
     "metadata": {
      "tags": []
     },
     "output_type": "execute_result"
    }
   ],
   "source": [
    "# PRINT SUMMARY\n",
    "print('Word2Vec vocabulary size is :', len(w2v.wv.vocab))\n",
    "w2v.wv.most_similar('account', topn=10)"
   ]
  },
  {
   "cell_type": "code",
   "execution_count": 0,
   "metadata": {
    "ExecuteTime": {
     "end_time": "2019-09-07T21:59:25.421984Z",
     "start_time": "2019-09-07T21:59:19.448161Z"
    },
    "colab": {},
    "colab_type": "code",
    "id": "E51Stgzzp-eT"
   },
   "outputs": [],
   "source": [
    "# SAVE WORD2VEC MODEL\n",
    "#w2v.save('Models/word2vec.model') # This is the whole neural network, useful if we want to resume training later\n",
    "#w2v.wv.save('Models/word_vectors.kv') # This is just the word vectors from the trained neural network"
   ]
  },
  {
   "cell_type": "markdown",
   "metadata": {
    "ExecuteTime": {
     "end_time": "2019-09-07T20:42:33.984896Z",
     "start_time": "2019-09-07T20:42:33.979811Z"
    },
    "colab_type": "text",
    "id": "vatJBU7Yp-eU"
   },
   "source": [
    "### 1.  Word Embeddings paired with Document Quantization"
   ]
  },
  {
   "cell_type": "code",
   "execution_count": 0,
   "metadata": {
    "ExecuteTime": {
     "end_time": "2019-09-08T18:08:14.100709Z",
     "start_time": "2019-09-08T18:08:13.399289Z"
    },
    "colab": {},
    "colab_type": "code",
    "id": "FBRXwpGgp-eU",
    "outputId": "0bcc4c02-b89d-4356-d2d4-95e2aa4cc51a"
   },
   "outputs": [
    {
     "name": "stdout",
     "output_type": "stream",
     "text": [
      "Shape of word vectors matrix (18720, 100)\n"
     ]
    },
    {
     "data": {
      "text/plain": [
       "array([ 0.0466886 , -0.28114358,  0.18822767, -0.22930813,  0.11218674,\n",
       "       -0.07249404, -0.22254103,  0.28002495, -0.25690317,  0.3931918 ,\n",
       "       -0.21720538,  0.20368142,  0.23626675, -0.11263606, -0.07089174,\n",
       "        0.10087981,  0.08050175,  0.04144349,  0.20350055, -0.24435505,\n",
       "        0.24461204,  0.22782756, -0.08341325,  0.15069987, -0.01742627,\n",
       "        0.0066676 ,  0.17441271, -0.12875973,  0.24420668,  0.1532279 ,\n",
       "       -0.09599497, -0.24601173,  0.2027257 ,  0.46466815,  0.12538399,\n",
       "       -0.07590363,  0.11164078,  0.18661354, -0.02103791, -0.13141087,\n",
       "       -0.074992  , -0.01910023,  0.04943294,  0.03032103,  0.26093972,\n",
       "       -0.5090255 , -0.06854853, -0.06687   ,  0.00880607, -0.24834394,\n",
       "        0.08548374, -0.34308064,  0.02853707, -0.18564367, -0.26765534,\n",
       "       -0.3478079 ,  0.0590839 ,  0.23284322,  0.4532712 ,  0.00329465,\n",
       "        0.05635824,  0.4239933 , -0.10772438,  0.01937741,  0.06718241,\n",
       "       -0.07894652, -0.22808485, -0.27687338,  0.15638258,  0.02036393,\n",
       "       -0.27090475, -0.11060049,  0.32519042,  0.43361434, -0.34073994,\n",
       "       -0.03265146,  0.41124713, -0.13985036,  0.08294977, -0.05086135,\n",
       "       -0.01199487,  0.42985097,  0.26316583,  0.38191196, -0.05359766,\n",
       "        0.10309866, -0.05199755, -0.06756934,  0.06633315, -0.13469881,\n",
       "       -0.18582803,  0.17552088,  0.1893321 , -0.04286947, -0.09629507,\n",
       "        0.17423941, -0.80558515,  0.24396615,  0.43009707,  0.04158084],\n",
       "      dtype=float32)"
      ]
     },
     "execution_count": 14,
     "metadata": {
      "tags": []
     },
     "output_type": "execute_result"
    }
   ],
   "source": [
    "# LOAD WORD EMBEDDINGS\n",
    "wv = gensim.models.KeyedVectors.load('Models/word_vectors.kv')\n",
    "print('Shape of word vectors matrix', wv.vectors.shape)\n",
    "wv['bank']"
   ]
  },
  {
   "cell_type": "code",
   "execution_count": 0,
   "metadata": {
    "ExecuteTime": {
     "end_time": "2019-09-08T18:03:27.405441Z",
     "start_time": "2019-09-08T18:02:44.673814Z"
    },
    "colab": {},
    "colab_type": "code",
    "id": "n6ZUADFLp-eW",
    "outputId": "1fa265fe-4906-461e-9917-007016b184b4"
   },
   "outputs": [
    {
     "data": {
      "text/plain": [
       "KMeans(algorithm='auto', copy_x=True, init='k-means++', max_iter=300,\n",
       "    n_clusters=1000, n_init=10, n_jobs=-1, precompute_distances='auto',\n",
       "    random_state=None, tol=0.0001, verbose=0)"
      ]
     },
     "execution_count": 7,
     "metadata": {
      "tags": []
     },
     "output_type": "execute_result"
    },
    {
     "name": "stdout",
     "output_type": "stream",
     "text": [
      "Shape of K-means cluster centroids (1000, 100)\n"
     ]
    }
   ],
   "source": [
    "# CLUSTERING WORDS VIA K-MEANS\n",
    "K = 1000\n",
    "kmeans = KMeans(n_clusters=K, n_jobs=-1)\n",
    "kmeans.fit(wv.vectors)\n",
    "print('Shape of K-means cluster centroids', kmeans.cluster_centers_.shape)"
   ]
  },
  {
   "cell_type": "code",
   "execution_count": 0,
   "metadata": {
    "ExecuteTime": {
     "end_time": "2019-09-08T18:08:26.641453Z",
     "start_time": "2019-09-08T18:08:26.479963Z"
    },
    "colab": {},
    "colab_type": "code",
    "id": "S0RDGB3Wp-eX"
   },
   "outputs": [],
   "source": [
    "# WORD CLUSTER MAP\n",
    "wv_labels = kmeans.predict(wv.vectors)\n",
    "WORD_CLUSTER_MAP = dict(zip(wv.index2word, wv_labels))\n",
    "DEFAULT_CLUSTER = K"
   ]
  },
  {
   "cell_type": "code",
   "execution_count": 0,
   "metadata": {
    "ExecuteTime": {
     "end_time": "2019-09-08T18:08:27.962300Z",
     "start_time": "2019-09-08T18:08:27.956969Z"
    },
    "colab": {},
    "colab_type": "code",
    "id": "He9iCZy3p-eX"
   },
   "outputs": [],
   "source": [
    "# DEFINE FUNCTION TO QUANTIZE DOCUMENTS\n",
    "def quantize(document, n_features):\n",
    "    vec = np.zeros(n_features,)\n",
    "    words = nltk.word_tokenize(document)\n",
    "    for word in words:\n",
    "        vec[WORD_CLUSTER_MAP.get(word, DEFAULT_CLUSTER)] += 1\n",
    "    return vec\n",
    "\n",
    "# DEFINE FUNCTION TO BUILD DATASET\n",
    "def build_data(texts, n_features):\n",
    "    data = np.zeros((len(texts), n_features))\n",
    "    for ix, doc in enumerate(texts):\n",
    "        if ix % 1000 == 0:\n",
    "            print('Iteration', ix+1)\n",
    "        data[ix, :] = quantize(doc, n_features)\n",
    "    return data"
   ]
  },
  {
   "cell_type": "code",
   "execution_count": 0,
   "metadata": {
    "ExecuteTime": {
     "end_time": "2019-09-08T18:08:32.001698Z",
     "start_time": "2019-09-08T18:08:30.672467Z"
    },
    "colab": {},
    "colab_type": "code",
    "id": "RTQ3naxNp-eY"
   },
   "outputs": [],
   "source": [
    "# PREPROCESS TEXT\n",
    "text_train = text_train.apply(lambda doc: doc.translate(str.maketrans('', '', string.punctuation)))\n",
    "text_test = text_test.apply(lambda doc: doc.translate(str.maketrans('', '', string.punctuation)))"
   ]
  },
  {
   "cell_type": "code",
   "execution_count": 0,
   "metadata": {
    "ExecuteTime": {
     "end_time": "2019-09-08T18:10:50.880121Z",
     "start_time": "2019-09-08T18:08:36.303033Z"
    },
    "colab": {},
    "colab_type": "code",
    "id": "wkEcU9MYp-eZ",
    "outputId": "27bb91de-1ced-4fde-bd3d-1e4e2fc9dbad",
    "scrolled": true
   },
   "outputs": [
    {
     "name": "stdout",
     "output_type": "stream",
     "text": [
      "Iteration 1\n",
      "Iteration 1001\n",
      "Iteration 2001\n",
      "Iteration 3001\n",
      "Iteration 4001\n",
      "Iteration 5001\n",
      "Iteration 6001\n",
      "Iteration 7001\n",
      "Iteration 8001\n",
      "Iteration 9001\n",
      "Iteration 10001\n",
      "Iteration 11001\n",
      "Iteration 12001\n",
      "Iteration 13001\n",
      "Iteration 14001\n",
      "Iteration 15001\n",
      "Iteration 16001\n",
      "Iteration 17001\n",
      "Iteration 18001\n",
      "Iteration 19001\n",
      "Iteration 20001\n",
      "Iteration 21001\n",
      "Iteration 22001\n",
      "Iteration 23001\n",
      "Iteration 24001\n",
      "Iteration 25001\n",
      "Iteration 26001\n",
      "Iteration 27001\n",
      "Iteration 28001\n",
      "Iteration 29001\n",
      "Iteration 30001\n",
      "Iteration 31001\n",
      "Iteration 32001\n",
      "Iteration 33001\n",
      "Iteration 34001\n",
      "Iteration 35001\n",
      "Iteration 36001\n",
      "Iteration 37001\n",
      "Iteration 38001\n",
      "Iteration 39001\n",
      "Iteration 40001\n",
      "Iteration 41001\n",
      "Iteration 42001\n",
      "Iteration 43001\n",
      "Iteration 44001\n",
      "Iteration 45001\n",
      "Iteration 46001\n",
      "Iteration 47001\n",
      "Iteration 48001\n",
      "Iteration 49001\n",
      "Iteration 50001\n",
      "Iteration 51001\n",
      "Iteration 52001\n",
      "Iteration 53001\n",
      "Iteration 54001\n",
      "Iteration 55001\n",
      "Iteration 56001\n",
      "Iteration 57001\n",
      "Iteration 58001\n",
      "Iteration 59001\n",
      "Iteration 60001\n",
      "Iteration 61001\n",
      "Iteration 62001\n",
      "Iteration 63001\n",
      "Iteration 64001\n",
      "Iteration 65001\n",
      "Iteration 66001\n",
      "Iteration 67001\n",
      "Iteration 68001\n",
      "Iteration 69001\n",
      "Iteration 70001\n",
      "Iteration 71001\n",
      "Iteration 72001\n",
      "Iteration 73001\n",
      "Iteration 74001\n",
      "Iteration 75001\n",
      "Iteration 76001\n",
      "Iteration 77001\n",
      "Iteration 78001\n",
      "Iteration 79001\n",
      "Iteration 80001\n",
      "Iteration 81001\n",
      "Iteration 82001\n",
      "Iteration 83001\n",
      "Iteration 84001\n",
      "Iteration 85001\n",
      "Iteration 86001\n",
      "Iteration 87001\n",
      "Iteration 88001\n",
      "Iteration 89001\n",
      "Iteration 90001\n",
      "Iteration 91001\n",
      "Iteration 92001\n",
      "Iteration 93001\n",
      "Iteration 94001\n",
      "Iteration 95001\n",
      "Iteration 96001\n",
      "Iteration 97001\n",
      "Iteration 98001\n",
      "Iteration 99001\n",
      "Iteration 100001\n",
      "Iteration 101001\n",
      "Iteration 102001\n",
      "Iteration 103001\n",
      "Iteration 104001\n",
      "Iteration 105001\n",
      "Iteration 106001\n",
      "Iteration 107001\n",
      "Iteration 108001\n",
      "Iteration 109001\n",
      "Iteration 110001\n",
      "Iteration 111001\n",
      "Iteration 112001\n",
      "Iteration 113001\n",
      "Iteration 114001\n",
      "Iteration 115001\n",
      "Iteration 116001\n",
      "Iteration 117001\n",
      "Iteration 118001\n",
      "Iteration 119001\n",
      "Iteration 120001\n",
      "Iteration 121001\n",
      "Iteration 122001\n",
      "Iteration 123001\n",
      "Iteration 124001\n",
      "Iteration 125001\n",
      "Iteration 126001\n",
      "Iteration 127001\n",
      "Iteration 128001\n",
      "Iteration 129001\n",
      "Iteration 130001\n",
      "Iteration 131001\n",
      "Iteration 132001\n",
      "Iteration 133001\n",
      "Iteration 134001\n",
      "Iteration 135001\n",
      "Iteration 136001\n",
      "Iteration 137001\n",
      "Iteration 138001\n",
      "Iteration 139001\n",
      "Iteration 140001\n",
      "Iteration 141001\n",
      "Iteration 142001\n",
      "Iteration 143001\n",
      "Iteration 144001\n",
      "Iteration 145001\n",
      "Iteration 146001\n",
      "Iteration 147001\n",
      "Iteration 148001\n",
      "Iteration 149001\n",
      "Iteration 150001\n",
      "Iteration 151001\n",
      "Iteration 152001\n",
      "Iteration 153001\n",
      "Iteration 154001\n",
      "Iteration 155001\n",
      "Iteration 156001\n",
      "Iteration 157001\n",
      "Iteration 158001\n",
      "Iteration 159001\n",
      "Iteration 160001\n",
      "Iteration 161001\n",
      "Iteration 162001\n",
      "Iteration 163001\n",
      "Iteration 164001\n",
      "Iteration 165001\n",
      "Iteration 166001\n",
      "Iteration 167001\n",
      "Iteration 168001\n",
      "Iteration 169001\n",
      "Iteration 170001\n",
      "Iteration 171001\n",
      "Iteration 172001\n",
      "Iteration 173001\n",
      "Iteration 174001\n",
      "Iteration 175001\n",
      "Iteration 176001\n",
      "Iteration 177001\n",
      "Iteration 178001\n",
      "Iteration 179001\n",
      "Iteration 180001\n",
      "Iteration 181001\n",
      "Iteration 182001\n",
      "Iteration 183001\n",
      "Iteration 184001\n",
      "Iteration 185001\n",
      "Iteration 186001\n",
      "Iteration 187001\n",
      "Iteration 188001\n",
      "Iteration 189001\n",
      "Iteration 190001\n",
      "Iteration 191001\n",
      "Iteration 192001\n",
      "Iteration 193001\n",
      "Iteration 194001\n",
      "Iteration 195001\n",
      "Iteration 196001\n",
      "Iteration 197001\n",
      "Iteration 198001\n",
      "Iteration 199001\n",
      "Iteration 200001\n",
      "Iteration 201001\n",
      "Iteration 202001\n",
      "Iteration 203001\n",
      "Iteration 204001\n",
      "Iteration 205001\n",
      "Iteration 206001\n",
      "Iteration 207001\n",
      "Iteration 208001\n",
      "Iteration 209001\n",
      "Iteration 210001\n",
      "Iteration 211001\n",
      "Iteration 212001\n",
      "Iteration 213001\n",
      "Iteration 214001\n",
      "Iteration 215001\n",
      "Iteration 1\n",
      "Iteration 1001\n",
      "Iteration 2001\n",
      "Iteration 3001\n",
      "Iteration 4001\n",
      "Iteration 5001\n",
      "Iteration 6001\n",
      "Iteration 7001\n",
      "Iteration 8001\n",
      "Iteration 9001\n",
      "Iteration 10001\n",
      "Iteration 11001\n",
      "Iteration 12001\n",
      "Iteration 13001\n",
      "Iteration 14001\n",
      "Iteration 15001\n",
      "Iteration 16001\n",
      "Iteration 17001\n",
      "Iteration 18001\n",
      "Iteration 19001\n",
      "Iteration 20001\n",
      "Iteration 21001\n",
      "Iteration 22001\n",
      "Iteration 23001\n",
      "Iteration 24001\n",
      "Iteration 25001\n",
      "Iteration 26001\n",
      "Iteration 27001\n",
      "Iteration 28001\n",
      "Iteration 29001\n",
      "Iteration 30001\n",
      "Iteration 31001\n",
      "Iteration 32001\n",
      "Iteration 33001\n",
      "Iteration 34001\n",
      "Iteration 35001\n",
      "Iteration 36001\n",
      "Iteration 37001\n",
      "Iteration 38001\n",
      "Iteration 39001\n",
      "Iteration 40001\n",
      "Iteration 41001\n",
      "Iteration 42001\n",
      "Iteration 43001\n",
      "Iteration 44001\n",
      "Iteration 45001\n",
      "Iteration 46001\n",
      "Iteration 47001\n",
      "Iteration 48001\n",
      "Iteration 49001\n",
      "Iteration 50001\n",
      "Iteration 51001\n",
      "Iteration 52001\n",
      "Iteration 53001\n"
     ]
    }
   ],
   "source": [
    "# CREATE DATASET\n",
    "X_train = build_data(text_train, K+1)\n",
    "X_test = build_data(text_test, K+1)"
   ]
  },
  {
   "cell_type": "code",
   "execution_count": 0,
   "metadata": {
    "ExecuteTime": {
     "end_time": "2019-09-08T18:11:18.403557Z",
     "start_time": "2019-09-08T18:11:10.658655Z"
    },
    "colab": {},
    "colab_type": "code",
    "id": "PDtVdqOPp-ea"
   },
   "outputs": [],
   "source": [
    "# FEATURE SCALING\n",
    "scaler = StandardScaler()\n",
    "X_train = scaler.fit_transform(X_train)\n",
    "X_test = scaler.transform(X_test)"
   ]
  },
  {
   "cell_type": "code",
   "execution_count": 0,
   "metadata": {
    "ExecuteTime": {
     "start_time": "2019-09-08T18:11:22.143Z"
    },
    "colab": {},
    "colab_type": "code",
    "id": "Ko5zO_ZQp-eb"
   },
   "outputs": [],
   "source": [
    "# BUILD ML MODEL\n",
    "lr_wv = LogisticRegression(penalty='l1', solver='liblinear', max_iter=150, multi_class='auto')\n",
    "lr_wv.fit(X_train, y_train)"
   ]
  },
  {
   "cell_type": "code",
   "execution_count": 0,
   "metadata": {
    "ExecuteTime": {
     "end_time": "2019-09-07T22:58:13.500233Z",
     "start_time": "2019-09-07T22:58:13.409194Z"
    },
    "colab": {},
    "colab_type": "code",
    "id": "zFDmYUcQp-ed",
    "outputId": "b517049a-ecdc-4c98-fd72-51fc9ecf584b"
   },
   "outputs": [
    {
     "name": "stdout",
     "output_type": "stream",
     "text": [
      "Accuracy of Logistic Regression model : 81.21%\n"
     ]
    }
   ],
   "source": [
    "# TEST ML MODEL\n",
    "y_pred = lr_wv.predict(X_test)\n",
    "print('Accuracy of Logistic Regression model : {}%'.format(round(accuracy_score(y_test, y_pred)*100, 2)))"
   ]
  },
  {
   "cell_type": "code",
   "execution_count": 0,
   "metadata": {
    "colab": {},
    "colab_type": "code",
    "id": "WV_a5Idxp-ee"
   },
   "outputs": [],
   "source": [
    "# TEST ML MODEL\n",
    "y_pred = lr_wv.predict(X_test)\n",
    "print('Accuracy of Logistic Regression model : {}%'.format(round(accuracy_score(y_test, y_pred)*100, 2)))"
   ]
  },
  {
   "cell_type": "markdown",
   "metadata": {
    "colab_type": "text",
    "id": "woAhv5d6p-ef"
   },
   "source": [
    "### 2.  Word Embeddings paired with Neural Networks (NN)"
   ]
  },
  {
   "cell_type": "code",
   "execution_count": 0,
   "metadata": {
    "ExecuteTime": {
     "end_time": "2019-09-08T14:36:11.971884Z",
     "start_time": "2019-09-08T14:36:11.114220Z"
    },
    "colab": {},
    "colab_type": "code",
    "id": "gbkj_GNyp-ef",
    "outputId": "ae1b6da2-fa99-4d26-85a4-eae40a5567fc"
   },
   "outputs": [
    {
     "name": "stdout",
     "output_type": "stream",
     "text": [
      "Shape of word vectors matrix (18720, 100)\n"
     ]
    },
    {
     "data": {
      "text/plain": [
       "array([ 0.0466886 , -0.28114358,  0.18822767, -0.22930813,  0.11218674,\n",
       "       -0.07249404, -0.22254103,  0.28002495, -0.25690317,  0.3931918 ,\n",
       "       -0.21720538,  0.20368142,  0.23626675, -0.11263606, -0.07089174,\n",
       "        0.10087981,  0.08050175,  0.04144349,  0.20350055, -0.24435505,\n",
       "        0.24461204,  0.22782756, -0.08341325,  0.15069987, -0.01742627,\n",
       "        0.0066676 ,  0.17441271, -0.12875973,  0.24420668,  0.1532279 ,\n",
       "       -0.09599497, -0.24601173,  0.2027257 ,  0.46466815,  0.12538399,\n",
       "       -0.07590363,  0.11164078,  0.18661354, -0.02103791, -0.13141087,\n",
       "       -0.074992  , -0.01910023,  0.04943294,  0.03032103,  0.26093972,\n",
       "       -0.5090255 , -0.06854853, -0.06687   ,  0.00880607, -0.24834394,\n",
       "        0.08548374, -0.34308064,  0.02853707, -0.18564367, -0.26765534,\n",
       "       -0.3478079 ,  0.0590839 ,  0.23284322,  0.4532712 ,  0.00329465,\n",
       "        0.05635824,  0.4239933 , -0.10772438,  0.01937741,  0.06718241,\n",
       "       -0.07894652, -0.22808485, -0.27687338,  0.15638258,  0.02036393,\n",
       "       -0.27090475, -0.11060049,  0.32519042,  0.43361434, -0.34073994,\n",
       "       -0.03265146,  0.41124713, -0.13985036,  0.08294977, -0.05086135,\n",
       "       -0.01199487,  0.42985097,  0.26316583,  0.38191196, -0.05359766,\n",
       "        0.10309866, -0.05199755, -0.06756934,  0.06633315, -0.13469881,\n",
       "       -0.18582803,  0.17552088,  0.1893321 , -0.04286947, -0.09629507,\n",
       "        0.17423941, -0.80558515,  0.24396615,  0.43009707,  0.04158084],\n",
       "      dtype=float32)"
      ]
     },
     "execution_count": 11,
     "metadata": {
      "tags": []
     },
     "output_type": "execute_result"
    }
   ],
   "source": [
    "# LOAD WORD EMBEDDINGS\n",
    "wv = gensim.models.KeyedVectors.load('Models/word_vectors.kv')\n",
    "print('Shape of word vectors matrix', wv.vectors.shape)\n",
    "wv['bank']"
   ]
  },
  {
   "cell_type": "code",
   "execution_count": 0,
   "metadata": {
    "ExecuteTime": {
     "end_time": "2019-09-08T17:26:47.781450Z",
     "start_time": "2019-09-08T17:26:21.521480Z"
    },
    "colab": {},
    "colab_type": "code",
    "id": "Vc4_oOzip-eg"
   },
   "outputs": [],
   "source": [
    "# TOKENIZE TEXT INTO SEQUENCES OF INTEGERS AND PAD THEM\n",
    "VOCAB_SIZE = 10000\n",
    "MAX_LEN = 80\n",
    "    # Build and Fit Tokenizer\n",
    "tokenizer = Tokenizer(num_words=VOCAB_SIZE)\n",
    "tokenizer.fit_on_texts(text_train)\n",
    "word_index = tokenizer.word_index\n",
    "    # Tokenize Train and Test Texts\n",
    "seq_train = tokenizer.texts_to_sequences(text_train)\n",
    "seq_test = tokenizer.texts_to_sequences(text_test)\n",
    "    # Pad Sequences\n",
    "X_train = pad_sequences(seq_train, maxlen=MAX_LEN, truncating='post')\n",
    "X_test = pad_sequences(seq_test, maxlen=MAX_LEN, truncating='post')\n",
    "    # One-Hot-Encode Labels for the Neural Net\n",
    "y_train_ohe = to_categorical(y_train)\n",
    "y_test_ohe = to_categorical(y_test)"
   ]
  },
  {
   "cell_type": "code",
   "execution_count": 0,
   "metadata": {
    "ExecuteTime": {
     "end_time": "2019-09-08T17:26:49.726923Z",
     "start_time": "2019-09-08T17:26:49.647499Z"
    },
    "colab": {},
    "colab_type": "code",
    "id": "AfdE_z20p-eh"
   },
   "outputs": [],
   "source": [
    "# BUILD EMBEDDINGS MATRIX\n",
    "EMBED_DIM = 100\n",
    "embeddings_index = dict(zip(wv.index2word, wv.vectors))\n",
    "embeddings_matrix = np.zeros((VOCAB_SIZE, EMBED_DIM))\n",
    "\n",
    "for word, i in word_index.items():\n",
    "    if i < VOCAB_SIZE:\n",
    "        embedding_vector = embeddings_index.get(word, None)\n",
    "        if embedding_vector is not None:\n",
    "            embeddings_matrix[i] = embedding_vector"
   ]
  },
  {
   "cell_type": "code",
   "execution_count": 0,
   "metadata": {
    "ExecuteTime": {
     "end_time": "2019-09-08T17:26:54.375714Z",
     "start_time": "2019-09-08T17:26:52.400938Z"
    },
    "colab": {},
    "colab_type": "code",
    "id": "OG6imhATp-ei",
    "outputId": "df7be14c-3821-4697-af13-8ae67ead2cb4"
   },
   "outputs": [
    {
     "name": "stdout",
     "output_type": "stream",
     "text": [
      "_________________________________________________________________\n",
      "Layer (type)                 Output Shape              Param #   \n",
      "=================================================================\n",
      "embedding_7 (Embedding)      (None, 80, 100)           1000000   \n",
      "_________________________________________________________________\n",
      "conv1d_10 (Conv1D)           (None, 76, 64)            32064     \n",
      "_________________________________________________________________\n",
      "max_pooling1d_5 (MaxPooling1 (None, 25, 64)            0         \n",
      "_________________________________________________________________\n",
      "conv1d_11 (Conv1D)           (None, 21, 64)            20544     \n",
      "_________________________________________________________________\n",
      "lstm_5 (LSTM)                (None, 64)                33024     \n",
      "_________________________________________________________________\n",
      "dense_5 (Dense)              (None, 9)                 585       \n",
      "=================================================================\n",
      "Total params: 1,086,217\n",
      "Trainable params: 86,217\n",
      "Non-trainable params: 1,000,000\n",
      "_________________________________________________________________\n"
     ]
    }
   ],
   "source": [
    "# BUILD MODEL\n",
    "model = Sequential()\n",
    "model.add(Embedding(VOCAB_SIZE, EMBED_DIM, input_length=MAX_LEN))\n",
    "model.add(Conv1D(64, 5, activation='relu'))\n",
    "model.add(MaxPooling1D(3))\n",
    "model.add(Conv1D(64, 5, activation='relu'))\n",
    "model.add(LSTM(64, dropout=0.3, recurrent_dropout=0.5))\n",
    "#model.add(Flatten())\n",
    "#model.add(Dense(32, activation='relu'))\n",
    "#model.add(Dropout(0.5))\n",
    "model.add(Dense(9, activation='softmax'))\n",
    "# POPULATE AND FREEZE EMBEDDING LAYER\n",
    "model.layers[0].set_weights([embeddings_matrix])\n",
    "model.layers[0].trainable = False\n",
    "model.summary()"
   ]
  },
  {
   "cell_type": "code",
   "execution_count": 0,
   "metadata": {
    "ExecuteTime": {
     "end_time": "2019-09-08T17:49:27.600800Z",
     "start_time": "2019-09-08T17:27:05.928095Z"
    },
    "colab": {},
    "colab_type": "code",
    "id": "4SsJJjwDp-ei",
    "outputId": "482050f9-ed9b-4e10-8e58-86bb820580c4"
   },
   "outputs": [
    {
     "name": "stdout",
     "output_type": "stream",
     "text": [
      "Train on 183306 samples, validate on 32349 samples\n",
      "Epoch 1/10\n",
      "183306/183306 [==============================] - 131s 713us/step - loss: 0.6691 - acc: 0.7783 - val_loss: 0.5419 - val_acc: 0.8187\n",
      "\n",
      "Epoch 00001: val_acc improved from -inf to 0.81870, saving model to Models/nn_pretrained_wv.h5\n",
      "Epoch 2/10\n",
      "183306/183306 [==============================] - 139s 758us/step - loss: 0.5211 - acc: 0.8273 - val_loss: 0.4931 - val_acc: 0.8350\n",
      "\n",
      "Epoch 00002: val_acc improved from 0.81870 to 0.83499, saving model to Models/nn_pretrained_wv.h5\n",
      "Epoch 3/10\n",
      "183306/183306 [==============================] - 132s 718us/step - loss: 0.4870 - acc: 0.8367 - val_loss: 0.4787 - val_acc: 0.8388\n",
      "\n",
      "Epoch 00003: val_acc improved from 0.83499 to 0.83876, saving model to Models/nn_pretrained_wv.h5\n",
      "Epoch 4/10\n",
      "183306/183306 [==============================] - 133s 725us/step - loss: 0.4642 - acc: 0.8437 - val_loss: 0.4764 - val_acc: 0.8413\n",
      "\n",
      "Epoch 00004: val_acc improved from 0.83876 to 0.84126, saving model to Models/nn_pretrained_wv.h5\n",
      "Epoch 5/10\n",
      "183306/183306 [==============================] - 133s 724us/step - loss: 0.4462 - acc: 0.8501 - val_loss: 0.4801 - val_acc: 0.8384\n",
      "\n",
      "Epoch 00005: val_acc did not improve from 0.84126\n",
      "Epoch 6/10\n",
      "183306/183306 [==============================] - 136s 740us/step - loss: 0.4291 - acc: 0.8553 - val_loss: 0.4741 - val_acc: 0.8404\n",
      "\n",
      "Epoch 00006: val_acc did not improve from 0.84126\n",
      "Epoch 7/10\n",
      "183306/183306 [==============================] - 132s 721us/step - loss: 0.4172 - acc: 0.8595 - val_loss: 0.4777 - val_acc: 0.8414\n",
      "\n",
      "Epoch 00007: val_acc improved from 0.84126 to 0.84136, saving model to Models/nn_pretrained_wv.h5\n",
      "Epoch 8/10\n",
      "183306/183306 [==============================] - 134s 732us/step - loss: 0.4041 - acc: 0.8641 - val_loss: 0.4755 - val_acc: 0.8439\n",
      "\n",
      "Epoch 00008: val_acc improved from 0.84136 to 0.84386, saving model to Models/nn_pretrained_wv.h5\n",
      "Epoch 9/10\n",
      "183306/183306 [==============================] - 135s 734us/step - loss: 0.3947 - acc: 0.8665 - val_loss: 0.4799 - val_acc: 0.8398\n",
      "\n",
      "Epoch 00009: val_acc did not improve from 0.84386\n",
      "Epoch 10/10\n",
      "183306/183306 [==============================] - 136s 741us/step - loss: 0.3853 - acc: 0.8698 - val_loss: 0.4836 - val_acc: 0.8411\n",
      "\n",
      "Epoch 00010: val_acc did not improve from 0.84386\n"
     ]
    }
   ],
   "source": [
    "# COMPILE AND FIT MODEL\n",
    "model.compile(optimizer='adam', loss='categorical_crossentropy', metrics=['acc'])\n",
    "checkpoint = ModelCheckpoint(\"Models/nn_pretrained_wv.h5\", monitor='val_acc', verbose=1, save_best_only=True, mode='max')\n",
    "history = model.fit(X_train, y_train_ohe, epochs=10, batch_size=64, validation_split=0.15, callbacks=[checkpoint])\n",
    "#model.save_weights('Models/nn_pretrained_wv.h5')\n"
   ]
  },
  {
   "cell_type": "code",
   "execution_count": 0,
   "metadata": {
    "ExecuteTime": {
     "end_time": "2019-09-08T17:49:47.830347Z",
     "start_time": "2019-09-08T17:49:38.378016Z"
    },
    "colab": {},
    "colab_type": "code",
    "id": "tnOVXQ6tp-ek",
    "outputId": "19c8272c-62ba-45ed-b575-3b3b1024e4f8"
   },
   "outputs": [
    {
     "name": "stdout",
     "output_type": "stream",
     "text": [
      "Accuracy of Neural Network model : 84.18%\n"
     ]
    }
   ],
   "source": [
    "# TEST NEURAL NET MODEL\n",
    "y_pred = model.predict_classes(X_test)\n",
    "print('Accuracy of Neural Network model : {}%'.format(round(accuracy_score(y_test, y_pred)*100, 2)))"
   ]
  },
  {
   "cell_type": "markdown",
   "metadata": {
    "colab_type": "text",
    "id": "RNhT-2kBp-el"
   },
   "source": [
    "## IV.  APPROACH 3 : TRANSFER LEARNING FROM A PRE-TRAINED LANGUAGE MODEL"
   ]
  },
  {
   "cell_type": "code",
   "execution_count": 16,
   "metadata": {
    "colab": {
     "base_uri": "https://localhost:8080/",
     "height": 209
    },
    "colab_type": "code",
    "id": "SAV5vRnCtYfq",
    "outputId": "54a7eb8b-541e-4171-b65d-468779d56548"
   },
   "outputs": [
    {
     "name": "stdout",
     "output_type": "stream",
     "text": [
      "Go to this URL in a browser: https://accounts.google.com/o/oauth2/auth?client_id=947318989803-6bn6qk8qdgf4n4g3pfee6491hc0brc4i.apps.googleusercontent.com&redirect_uri=urn%3Aietf%3Awg%3Aoauth%3A2.0%3Aoob&scope=email%20https%3A%2F%2Fwww.googleapis.com%2Fauth%2Fdocs.test%20https%3A%2F%2Fwww.googleapis.com%2Fauth%2Fdrive%20https%3A%2F%2Fwww.googleapis.com%2Fauth%2Fdrive.photos.readonly%20https%3A%2F%2Fwww.googleapis.com%2Fauth%2Fpeopleapi.readonly&response_type=code\n",
      "\n",
      "Enter your authorization code:\n",
      "··········\n",
      "Mounted at /content/drive\n"
     ]
    }
   ],
   "source": [
    "# MOUNT GOOGLE DRIVE ACCOUNT\n",
    "from google.colab import drive\n",
    "drive.mount('/content/drive')"
   ]
  },
  {
   "cell_type": "code",
   "execution_count": null,
   "metadata": {},
   "outputs": [],
   "source": [
    "# CREATE DATA FOLDER\n",
    "!mkdir data\n",
    "\n",
    "# COPY DATASET.ZIP FROM DRIVE INTO COLAB\n",
    "%cp /content/drive/My\\ Drive/Datasets/consumer-complaints/Consumer_Complaints_Sample.csv.zip /content/data/."
   ]
  },
  {
   "cell_type": "code",
   "execution_count": 0,
   "metadata": {
    "colab": {},
    "colab_type": "code",
    "id": "B6gz7Obvt4L2"
   },
   "outputs": [],
   "source": [
    "# UNZIP DATA\n",
    "import os\n",
    "import zipfile\n",
    "\n",
    "local_zip = '/content/data/Consumer_Complaints_Sample.csv.zip'\n",
    "zip_ref = zipfile.ZipFile(local_zip, 'r')\n",
    "zip_ref.extractall('/content/data')\n",
    "zip_ref.close()"
   ]
  },
  {
   "cell_type": "code",
   "execution_count": 21,
   "metadata": {
    "ExecuteTime": {
     "end_time": "2019-10-12T14:45:57.918418Z",
     "start_time": "2019-10-12T14:45:54.948575Z"
    },
    "colab": {
     "base_uri": "https://localhost:8080/",
     "height": 204
    },
    "colab_type": "code",
    "id": "sIAVb71Jp-el",
    "outputId": "22d81d09-3edb-4e1d-c6ac-3651b26c4482"
   },
   "outputs": [
    {
     "data": {
      "text/html": [
       "<div>\n",
       "<style scoped>\n",
       "    .dataframe tbody tr th:only-of-type {\n",
       "        vertical-align: middle;\n",
       "    }\n",
       "\n",
       "    .dataframe tbody tr th {\n",
       "        vertical-align: top;\n",
       "    }\n",
       "\n",
       "    .dataframe thead th {\n",
       "        text-align: right;\n",
       "    }\n",
       "</style>\n",
       "<table border=\"1\" class=\"dataframe\">\n",
       "  <thead>\n",
       "    <tr style=\"text-align: right;\">\n",
       "      <th></th>\n",
       "      <th>Date received</th>\n",
       "      <th>Consumer complaint narrative</th>\n",
       "      <th>Product</th>\n",
       "    </tr>\n",
       "  </thead>\n",
       "  <tbody>\n",
       "    <tr>\n",
       "      <th>0</th>\n",
       "      <td>2017-05-01</td>\n",
       "      <td>I had a Citibank  XXXX   XXXX  credit card. Af...</td>\n",
       "      <td>Credit card or prepaid card</td>\n",
       "    </tr>\n",
       "    <tr>\n",
       "      <th>1</th>\n",
       "      <td>2017-05-01</td>\n",
       "      <td>I am writing to dispute a situation with  XXXX...</td>\n",
       "      <td>Credit reporting, credit repair services, or o...</td>\n",
       "    </tr>\n",
       "    <tr>\n",
       "      <th>2</th>\n",
       "      <td>2017-05-01</td>\n",
       "      <td>last year I filed a complaint about this debts...</td>\n",
       "      <td>Debt collection</td>\n",
       "    </tr>\n",
       "    <tr>\n",
       "      <th>3</th>\n",
       "      <td>2017-05-01</td>\n",
       "      <td>I called the  XXXX   XXXX   2017  to ask a que...</td>\n",
       "      <td>Student loan</td>\n",
       "    </tr>\n",
       "    <tr>\n",
       "      <th>4</th>\n",
       "      <td>2017-05-01</td>\n",
       "      <td>XXXX   XXXX  I moved into a new house in a dif...</td>\n",
       "      <td>Debt collection</td>\n",
       "    </tr>\n",
       "  </tbody>\n",
       "</table>\n",
       "</div>"
      ],
      "text/plain": [
       "  Date received  ...                                            Product\n",
       "0    2017-05-01  ...                        Credit card or prepaid card\n",
       "1    2017-05-01  ...  Credit reporting, credit repair services, or o...\n",
       "2    2017-05-01  ...                                    Debt collection\n",
       "3    2017-05-01  ...                                       Student loan\n",
       "4    2017-05-01  ...                                    Debt collection\n",
       "\n",
       "[5 rows x 3 columns]"
      ]
     },
     "execution_count": 21,
     "metadata": {
      "tags": []
     },
     "output_type": "execute_result"
    }
   ],
   "source": [
    "# LOAD DATA SAMPLE\n",
    "df = pd.read_csv('/content/data/Consumer_Complaints_Sample.csv')\n",
    "df.head()"
   ]
  },
  {
   "cell_type": "code",
   "execution_count": 26,
   "metadata": {
    "colab": {
     "base_uri": "https://localhost:8080/",
     "height": 214
    },
    "colab_type": "code",
    "id": "xpdybFMcuPfl",
    "outputId": "ed8924e3-86d0-41ef-fa5a-0db277ec9124"
   },
   "outputs": [
    {
     "name": "stdout",
     "output_type": "stream",
     "text": [
      "Collecting bert-tensorflow\n",
      "\u001b[?25l  Downloading https://files.pythonhosted.org/packages/a6/66/7eb4e8b6ea35b7cc54c322c816f976167a43019750279a8473d355800a93/bert_tensorflow-1.0.1-py2.py3-none-any.whl (67kB)\n",
      "\u001b[K     |████████████████████████████████| 71kB 3.3MB/s \n",
      "\u001b[?25hRequirement already satisfied: six in /usr/local/lib/python3.6/dist-packages (from bert-tensorflow) (1.12.0)\n",
      "Installing collected packages: bert-tensorflow\n",
      "Successfully installed bert-tensorflow-1.0.1\n"
     ]
    }
   ],
   "source": [
    "# INSTALL BERT-TENSORFLOW (Doesn't work with TF 2.0)\n",
    "!pip install bert-tensorflow"
   ]
  },
  {
   "cell_type": "code",
   "execution_count": 3,
   "metadata": {
    "ExecuteTime": {
     "end_time": "2019-10-13T01:28:13.124733Z",
     "start_time": "2019-10-13T01:28:13.084543Z"
    },
    "colab": {
     "base_uri": "https://localhost:8080/",
     "height": 91
    },
    "colab_type": "code",
    "id": "-kM2ag-0p-em",
    "outputId": "6176158d-e014-4d44-ccbb-f9930a8fb8c8"
   },
   "outputs": [],
   "source": [
    "import tensorflow as tf\n",
    "import pandas as pd\n",
    "import tensorflow_hub as hub\n",
    "import os\n",
    "import re\n",
    "import numpy as np\n",
    "from bert import run_classifier\n",
    "from bert import optimization\n",
    "from bert import tokenization\n",
    "import bert\n",
    "from tqdm import tqdm_notebook\n",
    "from tensorflow.keras import backend as K\n",
    "\n",
    "\n",
    "# INITIALIZE SESSION\n",
    "#sess = tf.compat.v1.Session() # For TF 2.0\n",
    "sess = tf.Session()\n",
    "\n",
    "# BERT PATH AND MAX SEQUENCE LENGTH\n",
    "BERT_PATH = \"https://tfhub.dev/google/bert_uncased_L-12_H-768_A-12/1\"\n",
    "MAX_SEQ_LENGTH = 256"
   ]
  },
  {
   "cell_type": "code",
   "execution_count": 0,
   "metadata": {
    "ExecuteTime": {
     "end_time": "2019-09-08T16:46:50.013646Z",
     "start_time": "2019-09-08T16:46:50.008477Z"
    },
    "colab": {},
    "colab_type": "code",
    "id": "pHXi8BWBp-en"
   },
   "outputs": [],
   "source": [
    "# TRAIN-TEST SPLIT\n",
    "train, test = train_test_split(df[['Consumer complaint narrative', 'Product']], test_size=0.2, random_state=10, shuffle=True, stratify= df['Product'])"
   ]
  },
  {
   "cell_type": "code",
   "execution_count": 0,
   "metadata": {
    "colab": {},
    "colab_type": "code",
    "id": "FmrjPxOZp-eo"
   },
   "outputs": [],
   "source": [
    "# Use the InputExample class from BERT's run_classifier code to create examples from the data\n",
    "train_InputExamples = train.apply(lambda x: run_classifier.InputExample(guid=None, # Globally unique ID for bookkeeping, unused in this example\n",
    "                                                                   text_a = x['Consumer complaint narrative'], \n",
    "                                                                   text_b = None, \n",
    "                                                                   label = x['Product']), axis = 1)\n",
    "\n",
    "test_InputExamples = test.apply(lambda x: run_classifier.InputExample(guid=None, \n",
    "                                                                   text_a = x['Consumer complaint narrative'], \n",
    "                                                                   text_b = None, \n",
    "                                                                   label = x['Product']), axis = 1)"
   ]
  },
  {
   "cell_type": "code",
   "execution_count": 42,
   "metadata": {
    "colab": {
     "base_uri": "https://localhost:8080/",
     "height": 159
    },
    "colab_type": "code",
    "id": "HrJEIF92p-eo",
    "outputId": "fd1c6c16-48be-4c1f-ea90-1bd4ff617b9c"
   },
   "outputs": [
    {
     "name": "stdout",
     "output_type": "stream",
     "text": [
      "INFO:tensorflow:Saver not created because there are no variables in the graph to restore\n"
     ]
    },
    {
     "name": "stderr",
     "output_type": "stream",
     "text": [
      "INFO:tensorflow:Saver not created because there are no variables in the graph to restore\n"
     ]
    },
    {
     "name": "stdout",
     "output_type": "stream",
     "text": [
      "WARNING:tensorflow:From /usr/local/lib/python3.6/dist-packages/bert/tokenization.py:125: The name tf.gfile.GFile is deprecated. Please use tf.io.gfile.GFile instead.\n",
      "\n"
     ]
    },
    {
     "name": "stderr",
     "output_type": "stream",
     "text": [
      "WARNING:tensorflow:From /usr/local/lib/python3.6/dist-packages/bert/tokenization.py:125: The name tf.gfile.GFile is deprecated. Please use tf.io.gfile.GFile instead.\n",
      "\n"
     ]
    }
   ],
   "source": [
    "# This is a path to an uncased (all lowercase) version of BERT\n",
    "BERT_MODEL_HUB = \"https://tfhub.dev/google/bert_uncased_L-12_H-768_A-12/1\"\n",
    "\n",
    "def create_tokenizer_from_hub_module():\n",
    "    \"\"\"Get the vocab file and casing info from the Hub module.\"\"\"  \n",
    "    bert_module = hub.Module(BERT_MODEL_HUB)\n",
    "    tokenization_info = bert_module(signature=\"tokenization_info\", as_dict=True)\n",
    "    vocab_file, do_lower_case = sess.run([tokenization_info[\"vocab_file\"], tokenization_info[\"do_lower_case\"]])\n",
    "\n",
    "    return tokenization.FullTokenizer(vocab_file=vocab_file, do_lower_case=do_lower_case)\n",
    "\n",
    "tokenizer = create_tokenizer_from_hub_module()"
   ]
  },
  {
   "cell_type": "code",
   "execution_count": 48,
   "metadata": {
    "colab": {
     "base_uri": "https://localhost:8080/",
     "height": 34
    },
    "colab_type": "code",
    "id": "NXntkcsZp-ep",
    "outputId": "28bda9ab-3456-4ef6-c1a4-4fce921fc030"
   },
   "outputs": [
    {
     "data": {
      "text/plain": [
       "['sam', 'va', 'a', 'le', '##col', '##e', 'pour', 'fuck']"
      ]
     },
     "execution_count": 48,
     "metadata": {
      "tags": []
     },
     "output_type": "execute_result"
    }
   ],
   "source": [
    "# TOKENIZE AN EXAMPLE SENTENCE\n",
    "tokenizer.tokenize('Sam va a lecole pour fuck')"
   ]
  },
  {
   "cell_type": "code",
   "execution_count": 0,
   "metadata": {
    "colab": {},
    "colab_type": "code",
    "id": "7E1HW0rjp-ep"
   },
   "outputs": [],
   "source": [
    "# CONVERT TRAIN/TEST InputExamples TO FEATURES THAT BERT UNDERSTANDS\n",
    "label_list = df['Product'].unique().tolist()\n",
    "train_features = bert.run_classifier.convert_examples_to_features(train_InputExamples, label_list, MAX_SEQ_LENGTH, tokenizer)\n",
    "test_features = bert.run_classifier.convert_examples_to_features(test_InputExamples, label_list, MAX_SEQ_LENGTH, tokenizer)"
   ]
  },
  {
   "cell_type": "code",
   "execution_count": 0,
   "metadata": {
    "colab": {},
    "colab_type": "code",
    "id": "RFHGE7YBHgB2"
   },
   "outputs": [],
   "source": [
    "# RE-STRUCTURE FEATURES INTO [INPUT_IDS, INPUT_MASKS, SEGMENT_IDS, LABELS]\n",
    "train_input_ids, train_input_masks, train_segment_ids, train_labels = list(zip(*[(f.input_ids, f.input_mask, f.segment_ids, f.label_id) for f in train_features]))\n",
    "test_input_ids, test_input_masks, test_segment_ids, test_labels = list(zip(*[(f.input_ids, f.input_mask, f.segment_ids, f.label_id) for f in test_features]))"
   ]
  },
  {
   "cell_type": "code",
   "execution_count": 0,
   "metadata": {
    "colab": {},
    "colab_type": "code",
    "id": "TfPw9TSXHmvl"
   },
   "outputs": [],
   "source": [
    "# ONE-HOT ENCODE LABELS\n",
    "train_labels_ohe = to_categorical(train_labels)\n",
    "test_labels_ohe = to_categorical(test_labels)"
   ]
  },
  {
   "cell_type": "code",
   "execution_count": 5,
   "metadata": {
    "ExecuteTime": {
     "end_time": "2019-10-13T01:28:37.407635Z",
     "start_time": "2019-10-13T01:28:37.390748Z"
    },
    "colab": {},
    "colab_type": "code",
    "id": "VVcpv8wLp-er"
   },
   "outputs": [],
   "source": [
    "# CREATE THE BERT LAYER CLASS\n",
    "class BertLayer(tf.keras.layers.Layer):\n",
    "    def __init__(self, n_fine_tune_layers=10, pooling=\"first\", bert_path=\"https://tfhub.dev/google/bert_uncased_L-12_H-768_A-12/1\", **kwargs):\n",
    "        self.n_fine_tune_layers = n_fine_tune_layers\n",
    "        self.trainable = True\n",
    "        self.output_size = 768\n",
    "        self.pooling = pooling\n",
    "        self.bert_path = bert_path\n",
    "        if self.pooling not in [\"first\", \"mean\"]:\n",
    "            raise NameError(\n",
    "                f\"Undefined pooling type (must be either first or mean, but is {self.pooling}\"\n",
    "            )\n",
    "\n",
    "        super(BertLayer, self).__init__(**kwargs)\n",
    "\n",
    "    def build(self, input_shape):\n",
    "        self.bert = hub.Module(\n",
    "            self.bert_path, trainable=self.trainable, name=f\"{self.name}_module\"\n",
    "        )\n",
    "\n",
    "        # Remove unused layers\n",
    "        trainable_vars = self.bert.variables\n",
    "        if self.pooling == \"first\":\n",
    "            trainable_vars = [var for var in trainable_vars if not \"/cls/\" in var.name]\n",
    "            trainable_layers = [\"pooler/dense\"]\n",
    "\n",
    "        elif self.pooling == \"mean\":\n",
    "            trainable_vars = [var for var in trainable_vars if not \"/cls/\" in var.name and not \"/pooler/\" in var.name]\n",
    "            trainable_layers = []\n",
    "        else:\n",
    "            raise NameError(\n",
    "                f\"Undefined pooling type (must be either first or mean, but is {self.pooling}\"\n",
    "            )\n",
    "\n",
    "        # Select how many layers to fine tune\n",
    "        for i in range(self.n_fine_tune_layers):\n",
    "            trainable_layers.append(f\"encoder/layer_{str(11 - i)}\")\n",
    "\n",
    "        # Update trainable vars to contain only the specified layers\n",
    "        trainable_vars = [\n",
    "            var\n",
    "            for var in trainable_vars\n",
    "            if any([l in var.name for l in trainable_layers])\n",
    "        ]\n",
    "\n",
    "        # Add to trainable weights\n",
    "        for var in trainable_vars:\n",
    "            self._trainable_weights.append(var)\n",
    "\n",
    "        for var in self.bert.variables:\n",
    "            if var not in self._trainable_weights:\n",
    "                self._non_trainable_weights.append(var)\n",
    "\n",
    "        super(BertLayer, self).build(input_shape)\n",
    "\n",
    "    def call(self, inputs):\n",
    "        inputs = [K.cast(x, dtype=\"int32\") for x in inputs]\n",
    "        input_ids, input_mask, segment_ids = inputs\n",
    "        bert_inputs = dict(\n",
    "            input_ids=input_ids, input_mask=input_mask, segment_ids=segment_ids\n",
    "        )\n",
    "        if self.pooling == \"first\":\n",
    "            pooled = self.bert(inputs=bert_inputs, signature=\"tokens\", as_dict=True)[\n",
    "                \"pooled_output\"\n",
    "            ]\n",
    "        elif self.pooling == \"mean\":\n",
    "            result = self.bert(inputs=bert_inputs, signature=\"tokens\", as_dict=True)[\n",
    "                \"sequence_output\"\n",
    "            ]\n",
    "\n",
    "            mul_mask = lambda x, m: x * tf.expand_dims(m, axis=-1)\n",
    "            masked_reduce_mean = lambda x, m: tf.reduce_sum(mul_mask(x, m), axis=1) / (\n",
    "                    tf.reduce_sum(m, axis=1, keepdims=True) + 1e-10)\n",
    "            input_mask = tf.cast(input_mask, tf.float32)\n",
    "            pooled = masked_reduce_mean(result, input_mask)\n",
    "        else:\n",
    "            raise NameError(f\"Undefined pooling type (must be either first or mean, but is {self.pooling}\")\n",
    "\n",
    "        return pooled\n",
    "\n",
    "    def compute_output_shape(self, input_shape):\n",
    "        return (input_shape[0], self.output_size)"
   ]
  },
  {
   "cell_type": "code",
   "execution_count": 6,
   "metadata": {
    "ExecuteTime": {
     "end_time": "2019-10-13T01:28:38.602524Z",
     "start_time": "2019-10-13T01:28:38.594722Z"
    },
    "colab": {},
    "colab_type": "code",
    "id": "ittr6vARp-es"
   },
   "outputs": [],
   "source": [
    "# FUNCTION TO BUILD THE MODEL\n",
    "def build_model(max_seq_length): \n",
    "    in_id = tf.keras.layers.Input(shape=(max_seq_length,), name=\"input_ids\")\n",
    "    in_mask = tf.keras.layers.Input(shape=(max_seq_length,), name=\"input_masks\")\n",
    "    in_segment = tf.keras.layers.Input(shape=(max_seq_length,), name=\"segment_ids\")\n",
    "    bert_inputs = [in_id, in_mask, in_segment]\n",
    "    \n",
    "    bert_output = BertLayer(n_fine_tune_layers=3, pooling=\"first\")(bert_inputs)\n",
    "    dense = tf.keras.layers.Dense(128, activation='relu')(bert_output)\n",
    "    pred = tf.keras.layers.Dense(9, activation='softmax')(dense)\n",
    "    \n",
    "    model = tf.keras.models.Model(inputs=bert_inputs, outputs=pred)\n",
    "    model.compile(loss='categorical_crossentropy', optimizer=Adam(learning_rate=2e-5), metrics=['accuracy'])\n",
    "    model.summary()\n",
    "    \n",
    "    return model\n",
    "\n",
    "# FUNCTION TO INSTANTIATE VARIABLES\n",
    "def initialize_vars(sess):\n",
    "    sess.run(tf.local_variables_initializer())\n",
    "    sess.run(tf.global_variables_initializer())\n",
    "    sess.run(tf.tables_initializer())\n",
    "    K.set_session(sess)"
   ]
  },
  {
   "cell_type": "code",
   "execution_count": 93,
   "metadata": {
    "colab": {
     "base_uri": "https://localhost:8080/",
     "height": 476
    },
    "colab_type": "code",
    "id": "i4CNX47Zp-es",
    "outputId": "c1a8584d-7b11-4fbc-ee5d-718ccbc906ad"
   },
   "outputs": [
    {
     "name": "stdout",
     "output_type": "stream",
     "text": [
      "INFO:tensorflow:Saver not created because there are no variables in the graph to restore\n"
     ]
    },
    {
     "name": "stderr",
     "output_type": "stream",
     "text": [
      "INFO:tensorflow:Saver not created because there are no variables in the graph to restore\n"
     ]
    },
    {
     "name": "stdout",
     "output_type": "stream",
     "text": [
      "Model: \"model_2\"\n",
      "__________________________________________________________________________________________________\n",
      "Layer (type)                    Output Shape         Param #     Connected to                     \n",
      "==================================================================================================\n",
      "input_ids (InputLayer)          [(None, 256)]        0                                            \n",
      "__________________________________________________________________________________________________\n",
      "input_masks (InputLayer)        [(None, 256)]        0                                            \n",
      "__________________________________________________________________________________________________\n",
      "segment_ids (InputLayer)        [(None, 256)]        0                                            \n",
      "__________________________________________________________________________________________________\n",
      "bert_layer_2 (BertLayer)        (None, 768)          110104890   input_ids[0][0]                  \n",
      "                                                                 input_masks[0][0]                \n",
      "                                                                 segment_ids[0][0]                \n",
      "__________________________________________________________________________________________________\n",
      "dense_4 (Dense)                 (None, 128)          98432       bert_layer_2[0][0]               \n",
      "__________________________________________________________________________________________________\n",
      "dense_5 (Dense)                 (None, 9)            1161        dense_4[0][0]                    \n",
      "==================================================================================================\n",
      "Total params: 110,204,483\n",
      "Trainable params: 21,953,801\n",
      "Non-trainable params: 88,250,682\n",
      "__________________________________________________________________________________________________\n",
      "Train on 215655 samples\n",
      "215655/215655 [==============================] - 10268s 48ms/sample - loss: 0.5069 - acc: 0.8298\n"
     ]
    },
    {
     "data": {
      "text/plain": [
       "<tensorflow.python.keras.callbacks.History at 0x7fd4cd2d0160>"
      ]
     },
     "execution_count": 93,
     "metadata": {
      "tags": []
     },
     "output_type": "execute_result"
    }
   ],
   "source": [
    "# BUILD THE MODEL\n",
    "model = build_model(MAX_SEQ_LENGTH)\n",
    "\n",
    "# INSTANTIATE VARIABLES\n",
    "initialize_vars(sess)\n",
    "\n",
    "# TRAIN THE MODEL (IT TAKES A LONG TIME, EVEN ON GPU !)\n",
    "model.fit(\n",
    "    [train_input_ids, train_input_masks, train_segment_ids], \n",
    "    to_categorical(train_labels),\n",
    "    epochs=1,\n",
    "    batch_size=32\n",
    ")"
   ]
  },
  {
   "cell_type": "code",
   "execution_count": 0,
   "metadata": {
    "colab": {},
    "colab_type": "code",
    "id": "5B1mEHVcp-eu"
   },
   "outputs": [],
   "source": [
    "# SAVE THE WEIGHTS OF THE MODEL\n",
    "model.save_weights('../models/bert_weights.h5')"
   ]
  },
  {
   "cell_type": "code",
   "execution_count": 103,
   "metadata": {
    "colab": {
     "base_uri": "https://localhost:8080/",
     "height": 425
    },
    "colab_type": "code",
    "id": "Nv4kZBDmp-ev",
    "outputId": "6a3561ee-c2d0-4caa-f1e3-dcd0cf55d9f3"
   },
   "outputs": [
    {
     "name": "stdout",
     "output_type": "stream",
     "text": [
      "INFO:tensorflow:Saver not created because there are no variables in the graph to restore\n"
     ]
    },
    {
     "name": "stderr",
     "output_type": "stream",
     "text": [
      "INFO:tensorflow:Saver not created because there are no variables in the graph to restore\n"
     ]
    },
    {
     "name": "stdout",
     "output_type": "stream",
     "text": [
      "Model: \"model_3\"\n",
      "__________________________________________________________________________________________________\n",
      "Layer (type)                    Output Shape         Param #     Connected to                     \n",
      "==================================================================================================\n",
      "input_ids (InputLayer)          [(None, 256)]        0                                            \n",
      "__________________________________________________________________________________________________\n",
      "input_masks (InputLayer)        [(None, 256)]        0                                            \n",
      "__________________________________________________________________________________________________\n",
      "segment_ids (InputLayer)        [(None, 256)]        0                                            \n",
      "__________________________________________________________________________________________________\n",
      "bert_layer_3 (BertLayer)        (None, 768)          110104890   input_ids[0][0]                  \n",
      "                                                                 input_masks[0][0]                \n",
      "                                                                 segment_ids[0][0]                \n",
      "__________________________________________________________________________________________________\n",
      "dense_6 (Dense)                 (None, 128)          98432       bert_layer_3[0][0]               \n",
      "__________________________________________________________________________________________________\n",
      "dense_7 (Dense)                 (None, 9)            1161        dense_6[0][0]                    \n",
      "==================================================================================================\n",
      "Total params: 110,204,483\n",
      "Trainable params: 21,953,801\n",
      "Non-trainable params: 88,250,682\n",
      "__________________________________________________________________________________________________\n"
     ]
    }
   ],
   "source": [
    "# RELOAD THE MODEL FROM THE SAVED WEIGHTS\n",
    "mdl = None\n",
    "mdl = build_model(MAX_SEQ_LENGTH)\n",
    "initialize_vars(sess)\n",
    "mdl.load_weights('bert_weights.h5')"
   ]
  },
  {
   "cell_type": "code",
   "execution_count": 122,
   "metadata": {
    "colab": {
     "base_uri": "https://localhost:8080/",
     "height": 51
    },
    "colab_type": "code",
    "id": "sHLbAUBtEe0i",
    "outputId": "38d6d21e-a0de-44bd-9244-4cb625174d25"
   },
   "outputs": [
    {
     "name": "stdout",
     "output_type": "stream",
     "text": [
      "53914/53914 [==============================] - 1759s 33ms/sample - loss: 0.4241 - acc: 0.8552\n"
     ]
    },
    {
     "data": {
      "text/plain": [
       "[0.4241477071776802, 0.85517675]"
      ]
     },
     "execution_count": 122,
     "metadata": {
      "tags": []
     },
     "output_type": "execute_result"
    }
   ],
   "source": [
    "# EVALUATE THE MODEL\n",
    "model.evaluate(x=[test_input_ids, test_input_masks, test_segment_ids], y=to_categorical(test_labels))"
   ]
  },
  {
   "cell_type": "code",
   "execution_count": null,
   "metadata": {
    "ExecuteTime": {
     "end_time": "2019-10-13T01:29:19.718687Z",
     "start_time": "2019-10-13T01:28:43.729167Z"
    },
    "colab": {},
    "colab_type": "code",
    "id": "EoQXUFKc9msG"
   },
   "outputs": [],
   "source": []
  }
 ],
 "metadata": {
  "accelerator": "GPU",
  "colab": {
   "collapsed_sections": [
    "vatJBU7Yp-eU",
    "woAhv5d6p-ef"
   ],
   "name": "Consumer_Complaints_Classification.ipynb",
   "provenance": []
  },
  "kernelspec": {
   "display_name": "Python 3",
   "language": "python",
   "name": "python3"
  },
  "language_info": {
   "codemirror_mode": {
    "name": "ipython",
    "version": 3
   },
   "file_extension": ".py",
   "mimetype": "text/x-python",
   "name": "python",
   "nbconvert_exporter": "python",
   "pygments_lexer": "ipython3",
   "version": "3.7.3"
  },
  "latex_envs": {
   "LaTeX_envs_menu_present": true,
   "autoclose": false,
   "autocomplete": true,
   "bibliofile": "biblio.bib",
   "cite_by": "apalike",
   "current_citInitial": 1,
   "eqLabelWithNumbers": true,
   "eqNumInitial": 1,
   "hotkeys": {
    "equation": "Ctrl-E",
    "itemize": "Ctrl-I"
   },
   "labels_anchors": false,
   "latex_user_defs": false,
   "report_style_numbering": false,
   "user_envs_cfg": false
  }
 },
 "nbformat": 4,
 "nbformat_minor": 1
}
